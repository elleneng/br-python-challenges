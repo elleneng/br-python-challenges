{
  "nbformat": 4,
  "nbformat_minor": 0,
  "metadata": {
    "anaconda-cloud": {},
    "kernelspec": {
      "display_name": "Python 3",
      "language": "python",
      "name": "python3"
    },
    "language_info": {
      "codemirror_mode": {
        "name": "ipython",
        "version": 3
      },
      "file_extension": ".py",
      "mimetype": "text/x-python",
      "name": "python",
      "nbconvert_exporter": "python",
      "pygments_lexer": "ipython3",
      "version": "3.6.5"
    },
    "colab": {
      "name": "Desafio_04.ipynb",
      "provenance": [],
      "include_colab_link": true
    }
  },
  "cells": [
    {
      "cell_type": "markdown",
      "metadata": {
        "id": "view-in-github",
        "colab_type": "text"
      },
      "source": [
        "<a href=\"https://colab.research.google.com/github/elleneng/br-python-challenges/blob/master/Desafio_04.ipynb\" target=\"_parent\"><img src=\"https://colab.research.google.com/assets/colab-badge.svg\" alt=\"Open In Colab\"/></a>"
      ]
    },
    {
      "cell_type": "markdown",
      "metadata": {
        "id": "dOqcKUYZf6JW",
        "colab_type": "text"
      },
      "source": [
        "### Desafio 4\n",
        "\n",
        "Escreva uma função que receba uma string como parâmetro e retorne outra string com as palavras em ordem inversa.\n",
        "\n",
        "Exemplo:\n",
        "\n",
        "inverte_texto(\"Python é legal\") ➞ \"legal é Python\""
      ]
    },
    {
      "cell_type": "code",
      "metadata": {
        "id": "I5TInJDaf6JW",
        "colab_type": "code",
        "colab": {}
      },
      "source": [
        "# Seu código"
      ],
      "execution_count": null,
      "outputs": []
    },
    {
      "cell_type": "code",
      "metadata": {
        "id": "6gq9SLl1xSV1",
        "colab_type": "code",
        "colab": {}
      },
      "source": [
        "def inverte_texto(sentence):\n",
        "    return ' '.join(sentence.split(' ')[::-1])"
      ],
      "execution_count": 9,
      "outputs": []
    },
    {
      "cell_type": "code",
      "metadata": {
        "id": "toKcm3befR0U",
        "colab_type": "code",
        "colab": {
          "base_uri": "https://localhost:8080/",
          "height": 35
        },
        "outputId": "82c64694-8ac6-4683-fd7f-4e40f1dc0489"
      },
      "source": [
        "inverte_texto('Python é legal')"
      ],
      "execution_count": 11,
      "outputs": [
        {
          "output_type": "execute_result",
          "data": {
            "application/vnd.google.colaboratory.intrinsic+json": {
              "type": "string"
            },
            "text/plain": [
              "'legal é Python'"
            ]
          },
          "metadata": {
            "tags": []
          },
          "execution_count": 11
        }
      ]
    },
    {
      "cell_type": "code",
      "metadata": {
        "id": "DL_S72_DhSnh",
        "colab_type": "code",
        "colab": {}
      },
      "source": [
        ""
      ],
      "execution_count": null,
      "outputs": []
    }
  ]
}