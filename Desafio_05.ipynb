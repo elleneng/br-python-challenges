{
 "cells": [
  {
   "cell_type": "markdown",
   "metadata": {
    "colab_type": "text",
    "id": "view-in-github"
   },
   "source": [
    "<a href=\"https://colab.research.google.com/github/elleneng/br-python-challenges/blob/master/Desafio_05.ipynb\" target=\"_parent\"><img src=\"https://colab.research.google.com/assets/colab-badge.svg\" alt=\"Open In Colab\"/></a>"
   ]
  },
  {
   "cell_type": "markdown",
   "metadata": {
    "colab_type": "text",
    "id": "gQbaWOWcW1g_"
   },
   "source": [
    "# Desafio 5\n",
    "Você trabalha em uma loja de sapatos e deve contatar uma lista de clientes dada pela seguinte lista de números de telefones:"
   ]
  },
  {
   "cell_type": "code",
   "execution_count": 2,
   "metadata": {
    "colab": {},
    "colab_type": "code",
    "id": "T68FjcUmWear"
   },
   "outputs": [],
   "source": [
    "numeros_telefone = [\n",
    "'(765) 368-1506',\n",
    "'(285) 608-2448',\n",
    "'(255) 826-9050',\n",
    "'(554) 994-1517',\n",
    "'(285) 608-2448',\n",
    "'(596) 336-5508',\n",
    "'(511) 821-7870',\n",
    "'(410) 665-4447',\n",
    "'(821) 642-8987',\n",
    "'(285) 608-2448',\n",
    "'(311) 799-3883',\n",
    "'(935) 875-2054',\n",
    "'(464) 788-2397',\n",
    "'(765) 368-1506',\n",
    "'(650) 684-1437',\n",
    "'(812) 816-0881',\n",
    "'(285) 608-2448',\n",
    "'(885) 407-1719',\n",
    "'(943) 769-1061',\n",
    "'(596) 336-5508',\n",
    "'(765) 368-1506',\n",
    "'(255) 826-9050',\n",
    "]"
   ]
  },
  {
   "cell_type": "markdown",
   "metadata": {
    "colab_type": "text",
    "id": "ryYrStScXgZ3"
   },
   "source": [
    "No entanto, alguns destes números estão duplicados. Você seria capaz de remover estes duplicados para evitar que clientes sejam contatado mais de uma vez?"
   ]
  },
  {
   "cell_type": "code",
   "execution_count": 3,
   "metadata": {
    "colab": {
     "base_uri": "https://localhost:8080/",
     "height": 391
    },
    "colab_type": "code",
    "id": "F8n1sN-4XrW3",
    "outputId": "b92e799e-4d42-414f-a7f5-8685d9e31595"
   },
   "outputs": [
    {
     "data": {
      "text/plain": [
       "['(765) 368-1506',\n",
       " '(285) 608-2448',\n",
       " '(255) 826-9050',\n",
       " '(554) 994-1517',\n",
       " '(285) 608-2448',\n",
       " '(596) 336-5508',\n",
       " '(511) 821-7870',\n",
       " '(410) 665-4447',\n",
       " '(821) 642-8987',\n",
       " '(285) 608-2448',\n",
       " '(311) 799-3883',\n",
       " '(935) 875-2054',\n",
       " '(464) 788-2397',\n",
       " '(765) 368-1506',\n",
       " '(650) 684-1437',\n",
       " '(812) 816-0881',\n",
       " '(285) 608-2448',\n",
       " '(885) 407-1719',\n",
       " '(943) 769-1061',\n",
       " '(596) 336-5508',\n",
       " '(765) 368-1506',\n",
       " '(255) 826-9050']"
      ]
     },
     "execution_count": 3,
     "metadata": {
      "tags": []
     },
     "output_type": "execute_result"
    }
   ],
   "source": [
    "numeros_telefone"
   ]
  },
  {
   "cell_type": "code",
   "execution_count": 4,
   "metadata": {
    "colab": {
     "base_uri": "https://localhost:8080/",
     "height": 272
    },
    "colab_type": "code",
    "id": "8w7KxaHjyoyN",
    "outputId": "e375c1a6-b19a-43f7-ad3e-2f103e1d155e"
   },
   "outputs": [
    {
     "data": {
      "text/plain": [
       "{'(255) 826-9050',\n",
       " '(285) 608-2448',\n",
       " '(311) 799-3883',\n",
       " '(410) 665-4447',\n",
       " '(464) 788-2397',\n",
       " '(511) 821-7870',\n",
       " '(554) 994-1517',\n",
       " '(596) 336-5508',\n",
       " '(650) 684-1437',\n",
       " '(765) 368-1506',\n",
       " '(812) 816-0881',\n",
       " '(821) 642-8987',\n",
       " '(885) 407-1719',\n",
       " '(935) 875-2054',\n",
       " '(943) 769-1061'}"
      ]
     },
     "execution_count": 4,
     "metadata": {
      "tags": []
     },
     "output_type": "execute_result"
    }
   ],
   "source": [
    "set (numeros_telefone)"
   ]
  },
  {
   "cell_type": "code",
   "execution_count": 5,
   "metadata": {
    "colab": {
     "base_uri": "https://localhost:8080/",
     "height": 272
    },
    "colab_type": "code",
    "id": "zSuFnxfOyv-P",
    "outputId": "94c4118d-b318-4e8c-ba45-e3047c454211"
   },
   "outputs": [
    {
     "data": {
      "text/plain": [
       "['(255) 826-9050',\n",
       " '(812) 816-0881',\n",
       " '(410) 665-4447',\n",
       " '(765) 368-1506',\n",
       " '(943) 769-1061',\n",
       " '(464) 788-2397',\n",
       " '(285) 608-2448',\n",
       " '(311) 799-3883',\n",
       " '(935) 875-2054',\n",
       " '(650) 684-1437',\n",
       " '(885) 407-1719',\n",
       " '(511) 821-7870',\n",
       " '(596) 336-5508',\n",
       " '(821) 642-8987',\n",
       " '(554) 994-1517']"
      ]
     },
     "execution_count": 5,
     "metadata": {
      "tags": []
     },
     "output_type": "execute_result"
    }
   ],
   "source": [
    "list (set (numeros_telefone))"
   ]
  },
  {
   "cell_type": "code",
   "execution_count": null,
   "metadata": {
    "colab": {},
    "colab_type": "code",
    "id": "q7HvhfdDy447"
   },
   "outputs": [],
   "source": []
  }
 ],
 "metadata": {
  "colab": {
   "include_colab_link": true,
   "name": "Desafio 5.ipynb",
   "provenance": []
  },
  "kernelspec": {
   "display_name": "Python 3",
   "language": "python",
   "name": "python3"
  },
  "language_info": {
   "codemirror_mode": {
    "name": "ipython",
    "version": 3
   },
   "file_extension": ".py",
   "mimetype": "text/x-python",
   "name": "python",
   "nbconvert_exporter": "python",
   "pygments_lexer": "ipython3",
   "version": "3.8.3"
  }
 },
 "nbformat": 4,
 "nbformat_minor": 1
}
